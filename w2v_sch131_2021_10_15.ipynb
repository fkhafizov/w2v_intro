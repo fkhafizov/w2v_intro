{
  "nbformat": 4,
  "nbformat_minor": 0,
  "metadata": {
    "colab": {
      "name": "w2v_sch131_2021_10_15.ipynb",
      "provenance": [],
      "include_colab_link": true
    },
    "kernelspec": {
      "display_name": "Python 3",
      "language": "python",
      "name": "python3"
    },
    "language_info": {
      "codemirror_mode": {
        "name": "ipython",
        "version": 3
      },
      "file_extension": ".py",
      "mimetype": "text/x-python",
      "name": "python",
      "nbconvert_exporter": "python",
      "pygments_lexer": "ipython3",
      "version": "3.7.4"
    }
  },
  "cells": [
    {
      "cell_type": "markdown",
      "metadata": {
        "id": "view-in-github",
        "colab_type": "text"
      },
      "source": [
        "<a href=\"https://colab.research.google.com/github/fkhafizov/w2v_intro/blob/main/w2v_sch131_2021_10_15.ipynb\" target=\"_parent\"><img src=\"https://colab.research.google.com/assets/colab-badge.svg\" alt=\"Open In Colab\"/></a>"
      ]
    },
    {
      "cell_type": "code",
      "metadata": {
        "id": "9OruIBxDOtwS",
        "colab": {
          "base_uri": "https://localhost:8080/",
          "height": 164
        },
        "outputId": "326a3d7f-08af-41eb-9857-ac80c2366f46"
      },
      "source": [
        "# w2v_sch131_2021.10.15.ipynb\n",
        "# \n",
        "# w2v_skpgr_noW1_v2ru_20211004 2021.10.04 Russian v2\n",
        "# w2v_skpgr_noW1_v6.ipynb2021.08.19\n",
        "import numpy as np\n",
        "import pandas as pd\n",
        "import torch\n",
        "import torch.nn.functional as F\n",
        "import matplotlib\n",
        "import matplotlib.pyplot as plt\n",
        "import time\n",
        "\n",
        "\n",
        "import sys\n",
        "print('sys.executable = ',sys.executable)\n",
        "print('sys.version = ', sys.version)\n",
        "print('sys.version_info = ', sys.version_info)\n",
        "\n",
        "print('np.__version__ = ',np.__version__)\n",
        "print('pd.__version__ = ',pd.__version__)\n",
        "print('torch.__version__ = ',torch.__version__)\n",
        "print('matplotlib.__version__ = ',matplotlib.__version__)\n",
        "\n",
        "# '''\n",
        "# np.__version__ =  1.18.5\n",
        "# pd.__version__ =  1.0.5\n",
        "# torch.__version__ =  1.4.0\n",
        "# matplotlib.__version__ =  3.2.2\n",
        "#'''\n",
        "\n",
        "from IPython.core.display import display, HTML\n",
        "display(HTML(\"<style>.container { width:100% !important; }</style>\"))"
      ],
      "execution_count": 1,
      "outputs": [
        {
          "output_type": "stream",
          "name": "stdout",
          "text": [
            "sys.executable =  /usr/bin/python3\n",
            "sys.version =  3.7.12 (default, Sep 10 2021, 00:21:48) \n",
            "[GCC 7.5.0]\n",
            "sys.version_info =  sys.version_info(major=3, minor=7, micro=12, releaselevel='final', serial=0)\n",
            "np.__version__ =  1.19.5\n",
            "pd.__version__ =  1.1.5\n",
            "torch.__version__ =  1.9.0+cu111\n",
            "matplotlib.__version__ =  3.2.2\n"
          ]
        },
        {
          "output_type": "display_data",
          "data": {
            "text/html": [
              "<style>.container { width:100% !important; }</style>"
            ],
            "text/plain": [
              "<IPython.core.display.HTML object>"
            ]
          },
          "metadata": {}
        }
      ]
    },
    {
      "cell_type": "code",
      "metadata": {
        "id": "Hc-iyJ7kftQu"
      },
      "source": [
        ""
      ],
      "execution_count": 1,
      "outputs": []
    },
    {
      "cell_type": "markdown",
      "metadata": {
        "id": "uKJqGRwvOtwd"
      },
      "source": [
        "# Introduction to Skip-gram\n",
        "\n",
        "### Skip-gram Algorithm was introduced in [1] and improved in [2]\n",
        "* [1] [Mikolov et al, 2013.09](https://arxiv.org/pdf/1301.3781.pdf)\n",
        "* [2] [Mikolov et al, 2013.10](https://arxiv.org/pdf/1310.4546.pdf)\n",
        "\n",
        "Formulation of optimization problem for the **baseline algorithm** described in section 2 of [2] is as follows.\n",
        "\n",
        "### Notation \n",
        "\n",
        "Given text with vocabulary, $V$, of size $|V|$, window size $c$ ($c=2$ in our example below), and embedding space dimention (2 in our example) we construct a set  training word pairs $(w_{center}, w_{context})$.\n",
        "\n",
        "$idx(w) := $  index of word $w$ in the $V$.\n",
        "\n",
        "$W_0$ is a $|V| \\times 2$ matrix. Rows are embeddings of center words.\n",
        "\n",
        "$W_1$ is a $2 \\times |V|$ matrix. Columns are embeddings of context words.\n",
        "\n",
        "$x:=W_0[idx(w_{center}),:]$ is a 2D row-vector = embedding of $w_{center}$ (also denoted as $w_x$).\n",
        "\n",
        "\n",
        "\n",
        "$y':=W_1[:,idx(w_{context})]$ is a 2D column-vector =  embedding of $w_{context}=w_y$.\n",
        "\n",
        "\n",
        "$x\\cdot W_1$ is a row-vector of length $|V|$. Each entry is a dot product $x\\cdot y_v'$ for some $y_v'$.\n",
        "\n",
        "\n",
        "\n",
        "\n",
        "\n",
        "\n",
        "### Skip-Gram Model\n",
        "\n",
        "$$P(w_{context} | w_{center}) = P(w_y|w_x) := \\frac{\\exp(x\\cdot y')}{\\sum_{v=1}^{|V|}\\exp(x\\cdot y'_v)}\n",
        "$$\n",
        "\n",
        "$$\n",
        "U(W_0, W_1)  := \\frac{1}{T} \\sum_{t=1}^T \\sum_{-c\\le j \\le c, j\\ne 0} \\log P(y_{t+j}|x_t) \n",
        "$$\n",
        "\n",
        "Given a sequence of training words $w_1, w_2, w_3, \\dots , w_T$ , the objective of the Skip-gram model is to maximize $U(W_0, W_1)$:\n",
        "$$\\max_{W_0, W_1} U(W_0, W_1)  $$\n",
        "\n",
        "---\n",
        "\n",
        "### Note: \n",
        "\n",
        "Often the following question is being asked: is it necessary to have two weight matrices $W_0$ and $W_1$? It turns out, that  one matrix is sufficient as we illustrate in our example below. Therefore, the code below is an implementation of \n",
        "\n",
        "### Simplified Skip-Gram Model (with only one weight matrix)\n",
        "\n",
        "Let $\\displaystyle  W_1:=W_0'$, $\\quad T=$  the size of the set of training word pairs,  and \n",
        "\n",
        "$$U=U(W_0)  := \\frac{1}{T} \\sum_{t=1}^T \\log P(y_t|x_t)$$\n",
        "\n",
        "Then the objective is  to maximize $U(W_0)$.\n",
        "\n",
        "\n",
        "\n",
        "\n"
      ]
    },
    {
      "cell_type": "markdown",
      "metadata": {
        "id": "y1M6A60wOtwg"
      },
      "source": [
        "# Auxilary Functions"
      ]
    },
    {
      "cell_type": "code",
      "metadata": {
        "id": "0QxFRkEnOtwj"
      },
      "source": [
        "def remove_stop_words(corpus):\n",
        "    stop_words = ['in','very','are','the','to','of','is', 'a', 'and',\\\n",
        "                  'on','will', 'be', 'и', 'он', 'этот', 'она', 'очень', 'в', 'она']\n",
        "    results = []\n",
        "    for text in corpus:\n",
        "        tmp = text.split(' ')\n",
        "        for stop_word in stop_words:\n",
        "            if stop_word in tmp:\n",
        "                tmp.remove(stop_word)\n",
        "        results.append(\" \".join(tmp))\n",
        "    return results\n",
        "\n",
        "\n",
        "\n",
        "def plot_words(W, vocab, ttl, wcolor):\n",
        "    # plot words according to their embedding\n",
        "    x1 = W[:,0]\n",
        "    x2 = W[:,1]\n",
        "    x_axis_min, x_axis_max = np.min(x1)-get_padding(x1), np.max(x1)+get_padding(x1)\n",
        "    y_axis_min, y_axis_max = np.min(x2)-get_padding(x2), np.max(x2)+get_padding(x2)\n",
        "\n",
        "    fig, ax = plt.subplots()\n",
        "    figsz=4\n",
        "    plt.rcParams[\"figure.figsize\"] = (figsz,figsz)\n",
        "\n",
        "    plt.scatter(x1, x2, c='orange', s=500, alpha=1.0)\n",
        "    for ix, word, x1i, x2i in zip(range(len(wcolor)), vocab, x1, x2):\n",
        "        ax.annotate(word, (x1i,x2i ), fontsize=18, color=wcolor[ix])\n",
        "\n",
        "    # Plot Center\n",
        "    plt.scatter([0], [0], c='g', marker='+', s=500, alpha=0.9)     \n",
        "    plt.grid()\n",
        "    plt.xlim(x_axis_min,x_axis_max)\n",
        "    plt.ylim(y_axis_min,y_axis_max)\n",
        "    \n",
        "    # We change the fontsize of minor ticks label \n",
        "    ax.tick_params(axis='both', which='major', labelsize=20)\n",
        "    ax.tick_params(axis='both', which='minor', labelsize=18)\n",
        "    \n",
        "    plt.title(ttl, fontsize=18)\n",
        "\n",
        "    #     fig.savefig(fname=figfn, formatstr='png')\n",
        "    plt.show()\n",
        "\n",
        "def get_padding(x):\n",
        "    return 2*(np.max(x)-np.min(x))/10"
      ],
      "execution_count": 2,
      "outputs": []
    },
    {
      "cell_type": "markdown",
      "metadata": {
        "id": "B9iJLqSvOtwm"
      },
      "source": [
        "# Prepare Text"
      ]
    },
    {
      "cell_type": "code",
      "metadata": {
        "colab": {
          "base_uri": "https://localhost:8080/"
        },
        "id": "Wf6fmNEWftQ2",
        "outputId": "dbd83111-bab8-4894-d836-f4e70f63c74e"
      },
      "source": [
        "text = \"Fish swim in deep water. Ocean is very deep. Fish swim in darkness. \\\n",
        "          Birds are high in the sky. Birds fly very high. On a sunny day the sky is full of light.\"\n",
        "\n",
        "text = \"Рыба плавает глубоко в воде. Дно океана очень глубоко. Рыба плавает в темноте. \\\n",
        "             Птицы улетели в небо. Птицы летают очень высоко. В солнечный день небо чистое.\"\n",
        "\n",
        "# text = \"Fish and water. Birds and sky.\"\n",
        "\n",
        "# Text should have even number of sentences. This will help with illustration.\n",
        "# Words in the 1st half will be 'red'.\n",
        "# Words in the 2nd half of sentences must be 'cyan'.\n",
        "print('TEXT = ', text)\n",
        "\n",
        "corpus=[s.lower().strip() for s in text.split('.')][:-1]\n",
        "corpus = remove_stop_words(corpus)\n",
        "print('\\nCLEAN CORPUS = ',corpus)\n",
        "sentences = [s.split(' ') for s in corpus]\n",
        "print('\\nSENTENCES = ',sentences)\n",
        "\n",
        "# GET VOCAB\n",
        "vocab=[]\n",
        "for ss in sentences:\n",
        "  # print(ss)\n",
        "  vocab += ss\n",
        "    \n",
        "vocab = sorted(set(vocab))\n",
        "print('\\nVOCABULARY = ', vocab)\n",
        "print(len(vocab))\n",
        "\n",
        "\n",
        "\n",
        "# DICs mapping each word to a number and vice-versa\n",
        "word2idx = {w: idx for (idx, w) in enumerate(vocab)}\n",
        "idx2word = {idx: w for (idx, w) in enumerate(vocab)}\n",
        "'''\n",
        "print('word2idx=', word2idx)\n",
        "print('idx2word=', idx2word)\n",
        "'''\n",
        "\n",
        "# COUNT WORDS\n",
        "vocab_word_count = np.zeros(len(vocab))\n",
        "for ss in sentences:\n",
        "    for word in ss:\n",
        "        idx = vocab.index(word) \n",
        "        vocab_word_count[idx] += 1\n",
        "# print('vocab_word_count = ',vocab_word_count)\n",
        "\n",
        "\n",
        "# Create master DF for our data \n",
        "vocab_df = pd.DataFrame( columns=['vocab','color'] )\n",
        "\n",
        "# assign colors\n",
        "# ASSUME: corpus has even number of sentences. First half must be 'red'.\n",
        "# Words in the second half of sentences must be 'blue'\n",
        "ix=0\n",
        "for i, ss in zip(range(len(sentences)), sentences):\n",
        "    wordcolor = 'red' if i<len(sentences)/2 else 'blue'\n",
        "    for w in ss:\n",
        "        vocab_df.loc[ix]=[w, wordcolor]\n",
        "        ix+=1\n",
        "        \n",
        "total_number_of_words = ix\n",
        "vocab_df = vocab_df.drop_duplicates().sort_values(by='vocab').reset_index(drop=True)\n",
        "vocab_df['count']=vocab_word_count\n",
        "vocab_df['freq'] = vocab_df['count']/total_number_of_words\n",
        "\n",
        "\n",
        "# initialize dictionary of context words\n",
        "context_words = {}\n",
        "for w in vocab:\n",
        "    context_words[w] = []\n",
        "\n",
        "WINDOW_SIZE = 2\n",
        "data = []\n",
        "for sentence in sentences:\n",
        "    for idx, word in enumerate(sentence):\n",
        "        for neighbor in sentence[max(idx - WINDOW_SIZE, 0) :\\\n",
        "                                 min(idx + WINDOW_SIZE, len(sentence)) + 1] : \n",
        "            if neighbor != word:\n",
        "                data.append([word, neighbor])\n",
        "                context_words[word].append(neighbor)\n",
        "\n",
        "df_context_words = pd.DataFrame({'vocab': list(context_words.keys()),   \\\n",
        "                                 'c_words': list(context_words.values())})\n",
        "\n",
        "df_context_words['num_c_words_pairs'] = [ len(wrds) for wrds in list(context_words.values()) ]\n",
        "df_context_words['set_c_words'] = [ set(wrds) for wrds in list(context_words.values()) ]\n",
        "df_context_words['num_c_words'] = [ len(set(wrds)) for wrds in list(context_words.values()) ]\n",
        "vocab_df2 = vocab_df.merge( df_context_words, how='outer',on=['vocab'] )\n",
        "tr_pairs = pd.DataFrame(data, columns = ['center', 'context'])\n",
        "print(tr_pairs.head())\n",
        "print('...')\n",
        "print(tr_pairs.tail())\n",
        "\n"
      ],
      "execution_count": 3,
      "outputs": [
        {
          "output_type": "stream",
          "name": "stdout",
          "text": [
            "TEXT =  Рыба плавает глубоко в воде. Дно океана очень глубоко. Рыба плавает в темноте.              Птицы улетели в небо. Птицы летают очень высоко. В солнечный день небо чистое.\n",
            "\n",
            "CLEAN CORPUS =  ['рыба плавает глубоко воде', 'дно океана глубоко', 'рыба плавает темноте', 'птицы улетели небо', 'птицы летают высоко', 'солнечный день небо чистое']\n",
            "\n",
            "SENTENCES =  [['рыба', 'плавает', 'глубоко', 'воде'], ['дно', 'океана', 'глубоко'], ['рыба', 'плавает', 'темноте'], ['птицы', 'улетели', 'небо'], ['птицы', 'летают', 'высоко'], ['солнечный', 'день', 'небо', 'чистое']]\n",
            "\n",
            "VOCABULARY =  ['воде', 'высоко', 'глубоко', 'день', 'дно', 'летают', 'небо', 'океана', 'плавает', 'птицы', 'рыба', 'солнечный', 'темноте', 'улетели', 'чистое']\n",
            "15\n",
            "    center  context\n",
            "0     рыба  плавает\n",
            "1     рыба  глубоко\n",
            "2  плавает     рыба\n",
            "3  плавает  глубоко\n",
            "4  плавает     воде\n",
            "...\n",
            "    center    context\n",
            "39    небо  солнечный\n",
            "40    небо       день\n",
            "41    небо     чистое\n",
            "42  чистое       день\n",
            "43  чистое       небо\n"
          ]
        }
      ]
    },
    {
      "cell_type": "code",
      "metadata": {
        "id": "T-SsjzLtftQ3"
      },
      "source": [
        "# vocab_df2"
      ],
      "execution_count": 4,
      "outputs": []
    },
    {
      "cell_type": "markdown",
      "metadata": {
        "id": "fO1LBuFCOtwz"
      },
      "source": [
        "# Simplified Skip-Gram Model (no W1)"
      ]
    },
    {
      "cell_type": "code",
      "metadata": {
        "id": "y1ukIJdMOtw0",
        "colab": {
          "base_uri": "https://localhost:8080/",
          "height": 520
        },
        "outputId": "2f43aac2-ff7a-40c8-803a-23fa9fc6622c"
      },
      "source": [
        "import torch\n",
        "from torch.autograd import Variable\n",
        "import torch.nn.functional as F\n",
        "import time\n",
        "\n",
        "EMBEDDING_DIMENSION = 2\n",
        "W0 = Variable(torch.randn(len(vocab), EMBEDDING_DIMENSION).float(), requires_grad=True)\n",
        "W0_init = torch.clone( W0 )\n",
        "\n",
        "vocab_df['init_embedding']=[np.round(v,2) for v in  W0_init.cpu().detach().numpy()]\n",
        "vocab_df[ ['vocab', 'init_embedding' ] ]\n",
        "\n"
      ],
      "execution_count": 5,
      "outputs": [
        {
          "output_type": "execute_result",
          "data": {
            "text/html": [
              "<div>\n",
              "<style scoped>\n",
              "    .dataframe tbody tr th:only-of-type {\n",
              "        vertical-align: middle;\n",
              "    }\n",
              "\n",
              "    .dataframe tbody tr th {\n",
              "        vertical-align: top;\n",
              "    }\n",
              "\n",
              "    .dataframe thead th {\n",
              "        text-align: right;\n",
              "    }\n",
              "</style>\n",
              "<table border=\"1\" class=\"dataframe\">\n",
              "  <thead>\n",
              "    <tr style=\"text-align: right;\">\n",
              "      <th></th>\n",
              "      <th>vocab</th>\n",
              "      <th>init_embedding</th>\n",
              "    </tr>\n",
              "  </thead>\n",
              "  <tbody>\n",
              "    <tr>\n",
              "      <th>0</th>\n",
              "      <td>воде</td>\n",
              "      <td>[1.84, 0.6]</td>\n",
              "    </tr>\n",
              "    <tr>\n",
              "      <th>1</th>\n",
              "      <td>высоко</td>\n",
              "      <td>[-2.59, -0.75]</td>\n",
              "    </tr>\n",
              "    <tr>\n",
              "      <th>2</th>\n",
              "      <td>глубоко</td>\n",
              "      <td>[0.42, 1.41]</td>\n",
              "    </tr>\n",
              "    <tr>\n",
              "      <th>3</th>\n",
              "      <td>день</td>\n",
              "      <td>[0.64, -0.07]</td>\n",
              "    </tr>\n",
              "    <tr>\n",
              "      <th>4</th>\n",
              "      <td>дно</td>\n",
              "      <td>[0.15, -0.48]</td>\n",
              "    </tr>\n",
              "    <tr>\n",
              "      <th>5</th>\n",
              "      <td>летают</td>\n",
              "      <td>[-1.24, -0.23]</td>\n",
              "    </tr>\n",
              "    <tr>\n",
              "      <th>6</th>\n",
              "      <td>небо</td>\n",
              "      <td>[0.1, -1.39]</td>\n",
              "    </tr>\n",
              "    <tr>\n",
              "      <th>7</th>\n",
              "      <td>океана</td>\n",
              "      <td>[-1.42, -0.34]</td>\n",
              "    </tr>\n",
              "    <tr>\n",
              "      <th>8</th>\n",
              "      <td>плавает</td>\n",
              "      <td>[0.13, 1.92]</td>\n",
              "    </tr>\n",
              "    <tr>\n",
              "      <th>9</th>\n",
              "      <td>птицы</td>\n",
              "      <td>[0.77, -0.69]</td>\n",
              "    </tr>\n",
              "    <tr>\n",
              "      <th>10</th>\n",
              "      <td>рыба</td>\n",
              "      <td>[-1.48, -0.83]</td>\n",
              "    </tr>\n",
              "    <tr>\n",
              "      <th>11</th>\n",
              "      <td>солнечный</td>\n",
              "      <td>[0.11, 0.93]</td>\n",
              "    </tr>\n",
              "    <tr>\n",
              "      <th>12</th>\n",
              "      <td>темноте</td>\n",
              "      <td>[-0.65, 1.55]</td>\n",
              "    </tr>\n",
              "    <tr>\n",
              "      <th>13</th>\n",
              "      <td>улетели</td>\n",
              "      <td>[0.16, 1.18]</td>\n",
              "    </tr>\n",
              "    <tr>\n",
              "      <th>14</th>\n",
              "      <td>чистое</td>\n",
              "      <td>[-1.31, 0.76]</td>\n",
              "    </tr>\n",
              "  </tbody>\n",
              "</table>\n",
              "</div>"
            ],
            "text/plain": [
              "        vocab  init_embedding\n",
              "0        воде     [1.84, 0.6]\n",
              "1      высоко  [-2.59, -0.75]\n",
              "2     глубоко    [0.42, 1.41]\n",
              "3        день   [0.64, -0.07]\n",
              "4         дно   [0.15, -0.48]\n",
              "5      летают  [-1.24, -0.23]\n",
              "6        небо    [0.1, -1.39]\n",
              "7      океана  [-1.42, -0.34]\n",
              "8     плавает    [0.13, 1.92]\n",
              "9       птицы   [0.77, -0.69]\n",
              "10       рыба  [-1.48, -0.83]\n",
              "11  солнечный    [0.11, 0.93]\n",
              "12    темноте   [-0.65, 1.55]\n",
              "13    улетели    [0.16, 1.18]\n",
              "14     чистое   [-1.31, 0.76]"
            ]
          },
          "metadata": {},
          "execution_count": 5
        }
      ]
    },
    {
      "cell_type": "code",
      "metadata": {
        "id": "g-uM8i0rOtw1"
      },
      "source": [
        ""
      ],
      "execution_count": 5,
      "outputs": []
    },
    {
      "cell_type": "code",
      "metadata": {
        "id": "_vBCeYXpOtw2",
        "colab": {
          "base_uri": "https://localhost:8080/",
          "height": 274
        },
        "outputId": "ed8abd8d-698a-48aa-a695-43fa6573721b"
      },
      "source": [
        "%matplotlib inline\n",
        "# %matplotlib notebook\n",
        "\n",
        "# plot_words(W0_init.cpu().detach().numpy(), vocab, ttl='Initial embedding', wcolor=vocab_df.color)\n",
        "plot_words(W0_init.cpu().detach().numpy(), vocab, ttl='', wcolor=vocab_df.color)\n"
      ],
      "execution_count": 6,
      "outputs": [
        {
          "output_type": "display_data",
          "data": {
            "image/png": "[encoded data removed]",
            "text/plain": [
              "<Figure size 432x288 with 1 Axes>"
            ]
          },
          "metadata": {
            "needs_background": "light"
          }
        }
      ]
    },
    {
      "cell_type": "markdown",
      "metadata": {
        "id": "EN6NNWRMOtw5"
      },
      "source": [
        "# Main Loop\n"
      ]
    },
    {
      "cell_type": "code",
      "metadata": {
        "id": "F21m3pRbOtw7"
      },
      "source": [
        "U_array = []"
      ],
      "execution_count": 7,
      "outputs": []
    },
    {
      "cell_type": "code",
      "metadata": {
        "id": "x40q7T5KOtw9",
        "colab": {
          "base_uri": "https://localhost:8080/"
        },
        "outputId": "d028fe37-8c48-4de4-e62c-9810d80ed340"
      },
      "source": [
        "EPOCHS = 1000\n",
        "LEARNING_RATE = 0.001\n",
        "pair_ix = 24  # index of contect pair for prints\n",
        "sttime = time.time()\n",
        "\n",
        "# PyTorch Training\n",
        "for epoch in range(EPOCHS):\n",
        "    U = 0\n",
        "    for i in range(len(tr_pairs)):\n",
        "        \n",
        "        w_center     = tr_pairs.center[i]\n",
        "        w_context    = tr_pairs.context[i]\n",
        "        \n",
        "        w_center_ix  = word2idx[w_center]\n",
        "        w_context_ix = word2idx[w_context]\n",
        "        \n",
        "        w_center_embed = W0[word2idx[tr_pairs.center[i]],:]        \n",
        "        dot_products = torch.matmul( w_center_embed, torch.transpose(W0, 0, 1) )      \n",
        "        log_softmax = F.log_softmax(dot_products, dim=0)\n",
        "        \n",
        "        ix = torch.tensor([w_context_ix])\n",
        "        U_increment = torch.mul( F.nll_loss( log_softmax.view(1,-1), ix ), torch.tensor([-1.0]) )\n",
        "        U += U_increment.item()       \n",
        "        \n",
        "        if (epoch % 300 == 0) & \\\n",
        "           (w_center  == tr_pairs.center[pair_ix]) & \\\n",
        "           (w_context == tr_pairs.context[pair_ix]):\n",
        "            U_incr_val = round(U_increment.cpu().detach().numpy()[0],3)\n",
        "            if epoch == 0:\n",
        "                print(f'    w_center={w_center}, w_center_ix={w_center_ix}', \n",
        "                      f'  w_context={w_context}, w_context_ix={w_context_ix} ')    \n",
        "            print( f'  * epoch={epoch},  i={i}, U=',np.round(U,4),\n",
        "                 '   U_increment=',  U_incr_val  )\n",
        "        \n",
        "        U_increment.backward()\n",
        "        W0.data += LEARNING_RATE * W0.grad.data\n",
        "        W0.grad.data.zero_()\n",
        "        \n",
        "    U_array.append(U)\n",
        "\n",
        "endtime = time.time()\n",
        "ttl = f'Epochs={len(U_array)}, LR={LEARNING_RATE}, time={int(endtime-sttime)} sec'\n",
        "\n",
        "print('Finished training with: U=',np.round(U,4),'\\n', ttl)"
      ],
      "execution_count": 8,
      "outputs": [
        {
          "output_type": "stream",
          "name": "stdout",
          "text": [
            "    w_center=улетели, w_center_ix=13   w_context=птицы, w_context_ix=9 \n",
            "  * epoch=0,  i=24, U= -99.9474    U_increment= -4.282\n",
            "  * epoch=300,  i=24, U= -53.1782    U_increment= -2.421\n",
            "  * epoch=600,  i=24, U= -48.944    U_increment= -1.86\n",
            "  * epoch=900,  i=24, U= -47.391    U_increment= -1.605\n",
            "Finished training with: U= -78.3351 \n",
            " Epochs=1000, LR=0.001, time=12 sec\n"
          ]
        }
      ]
    },
    {
      "cell_type": "code",
      "metadata": {
        "id": "e3hjnjSfOtw-",
        "colab": {
          "base_uri": "https://localhost:8080/",
          "height": 308
        },
        "outputId": "07fc6832-d420-4028-d3ca-4ae28cac8dc7"
      },
      "source": [
        "%matplotlib inline\n",
        "# %matplotlib notebook\n",
        "import matplotlib.pyplot as plt\n",
        "fig, ax = plt.subplots()\n",
        "plt.rcParams[\"figure.figsize\"] = (6,6)\n",
        "\n",
        "epochs = range(1, len(U_array)+1)\n",
        "plt.plot(epochs, U_array, 'bo')\n",
        "\n",
        "plt.title(ttl, fontsize=14)\n",
        "plt.xlabel('EPOCH', fontsize=14)\n",
        "plt.ylabel('U', fontsize=14)\n",
        "plt.grid()\n",
        "ax.tick_params(axis='both', which='major', labelsize=18)\n",
        "ax.tick_params(axis='both', which='minor', labelsize=18)\n",
        "\n",
        "vocab_df['embedding']=[np.round(v,2) for v in  W0.cpu().detach().numpy()]\n",
        "# vocab_df"
      ],
      "execution_count": 9,
      "outputs": [
        {
          "output_type": "display_data",
          "data": {
            "image/png": "[encoded data removed]",
            "text/plain": [
              "<Figure size 432x288 with 1 Axes>"
            ]
          },
          "metadata": {
            "needs_background": "light"
          }
        }
      ]
    },
    {
      "cell_type": "code",
      "metadata": {
        "id": "5Pl72pQDOtw_",
        "colab": {
          "base_uri": "https://localhost:8080/",
          "height": 274
        },
        "outputId": "91ef7f64-a4fb-456f-efe3-918e915d9b33"
      },
      "source": [
        "%matplotlib inline\n",
        "# %matplotlib notebook\n",
        "# import matplotlib.pyplot as plt\n",
        "# fig, ax = plt.subplots()\n",
        "# plt.rcParams[\"figure.figsize\"] = (6,6)\n",
        "\n",
        "# plot_words(W0.cpu().detach().numpy(), vocab, ttl=ttl, wcolor=vocab_df.color)\n",
        "plot_words(W0.cpu().detach().numpy(), vocab, ttl='', wcolor=vocab_df.color)\n"
      ],
      "execution_count": 10,
      "outputs": [
        {
          "output_type": "display_data",
          "data": {
            "image/png": "[encoded data removed]",
            "text/plain": [
              "<Figure size 432x288 with 1 Axes>"
            ]
          },
          "metadata": {
            "needs_background": "light"
          }
        }
      ]
    },
    {
      "cell_type": "code",
      "metadata": {
        "id": "dK7fuT8OOtxA"
      },
      "source": [
        ""
      ],
      "execution_count": 10,
      "outputs": []
    },
    {
      "cell_type": "code",
      "metadata": {
        "colab": {
          "base_uri": "https://localhost:8080/"
        },
        "id": "aVvffq7pftRE",
        "outputId": "ca4b9a7a-c0ae-4b0c-c7a2-cfe35ece410e"
      },
      "source": [
        "W0"
      ],
      "execution_count": 11,
      "outputs": [
        {
          "output_type": "execute_result",
          "data": {
            "text/plain": [
              "tensor([[ 0.6415,  1.5116],\n",
              "        [-1.3659, -1.0630],\n",
              "        [ 0.0920,  1.7341],\n",
              "        [ 1.3703, -0.9203],\n",
              "        [-0.1619,  1.0735],\n",
              "        [-1.3605, -1.0669],\n",
              "        [ 0.8319, -1.5473],\n",
              "        [-0.2152,  1.0688],\n",
              "        [-0.2677,  1.8544],\n",
              "        [-0.6782, -1.6558],\n",
              "        [-0.5891,  1.7402],\n",
              "        [ 1.2493, -0.8236],\n",
              "        [-0.7991,  1.3753],\n",
              "        [ 0.0569, -1.4499],\n",
              "        [ 1.0501, -0.9285]], requires_grad=True)"
            ]
          },
          "metadata": {},
          "execution_count": 11
        }
      ]
    },
    {
      "cell_type": "code",
      "metadata": {
        "id": "SG9-3X02ftRF"
      },
      "source": [
        ""
      ],
      "execution_count": 11,
      "outputs": []
    },
    {
      "cell_type": "code",
      "metadata": {
        "id": "ZYLXGMZQftRH"
      },
      "source": [
        ""
      ],
      "execution_count": 11,
      "outputs": []
    },
    {
      "cell_type": "markdown",
      "metadata": {
        "id": "Vhj5K9ufftRL"
      },
      "source": [
        "# Code for SLIDE \"TRAINING\""
      ]
    },
    {
      "cell_type": "code",
      "metadata": {
        "id": "0La_e7QWftRN",
        "colab": {
          "base_uri": "https://localhost:8080/"
        },
        "outputId": "ff3cba8d-e79e-4f8d-d225-0a28dff68c85"
      },
      "source": [
        "# type(W0)  tensor([0.1529, 1.2841], grad_fn=<SelectBackward>)\n",
        "# M0= W0.cpu().detach().numpy()\n",
        "\n",
        "\n",
        "M0 = np.array([[ 1.9, -0.7],\n",
        "       [-1.6, -1. ],\n",
        "       [-1.1, -0. ],\n",
        "       [-0.4,  0.2],\n",
        "       [-1.2, -1. ],\n",
        "       [-0.9, -0.2],\n",
        "       [-1.1, -0.4],\n",
        "       [-1.5,  1.4],\n",
        "       [-0.1, -1. ],\n",
        "       [-0.5, -1.3],\n",
        "       [-0.8,  0.4],\n",
        "       [ 0.5, -1.1],\n",
        "       [-0.4,  0.7],\n",
        "       [ 0.1, -0.2],\n",
        "       [ 0.7, -0.8]])\n",
        "M0"
      ],
      "execution_count": 13,
      "outputs": [
        {
          "output_type": "execute_result",
          "data": {
            "text/plain": [
              "array([[ 1.9, -0.7],\n",
              "       [-1.6, -1. ],\n",
              "       [-1.1, -0. ],\n",
              "       [-0.4,  0.2],\n",
              "       [-1.2, -1. ],\n",
              "       [-0.9, -0.2],\n",
              "       [-1.1, -0.4],\n",
              "       [-1.5,  1.4],\n",
              "       [-0.1, -1. ],\n",
              "       [-0.5, -1.3],\n",
              "       [-0.8,  0.4],\n",
              "       [ 0.5, -1.1],\n",
              "       [-0.4,  0.7],\n",
              "       [ 0.1, -0.2],\n",
              "       [ 0.7, -0.8]])"
            ]
          },
          "metadata": {},
          "execution_count": 13
        }
      ]
    },
    {
      "cell_type": "code",
      "metadata": {
        "id": "6yqb_UAIftRP",
        "colab": {
          "base_uri": "https://localhost:8080/"
        },
        "outputId": "96bacd0e-6030-4cd4-9e7e-dd36ce73e4cd"
      },
      "source": [
        "M1 = np.array([[ 0.2, -1.4, -0.8,  1.3, -1.5, -1.4,  0.6, -1.5,  0.4, -0.9,  0.3,  1.1,  0.5, -0.3,  1.1],\n",
        "       [ 1.3, -1.2,  1.6, -1.4,  0.9, -1.2, -1.9,  0.9,  1.8, -1.8,  1.7, -1.3,  1.4, -1.7, -1.3]])\n",
        "\n",
        "import sys\n",
        "np.set_printoptions(suppress=True,linewidth=sys.maxsize,threshold=sys.maxsize)\n",
        "\n",
        "# from shutil import get_terminal_size\n",
        "# pd.set_option('display.width', get_terminal_size()[0])\n",
        "\n",
        "# M1= np.round(W0n.T,1)\n",
        "print(M1)"
      ],
      "execution_count": 14,
      "outputs": [
        {
          "output_type": "stream",
          "name": "stdout",
          "text": [
            "[[ 0.2 -1.4 -0.8  1.3 -1.5 -1.4  0.6 -1.5  0.4 -0.9  0.3  1.1  0.5 -0.3  1.1]\n",
            " [ 1.3 -1.2  1.6 -1.4  0.9 -1.2 -1.9  0.9  1.8 -1.8  1.7 -1.3  1.4 -1.7 -1.3]]\n"
          ]
        }
      ]
    },
    {
      "cell_type": "code",
      "metadata": {
        "id": "W5z1jt4WftRT",
        "colab": {
          "base_uri": "https://localhost:8080/"
        },
        "outputId": "3951b795-eac0-4932-9195-f054c338e54c"
      },
      "source": [
        "x=M0[8,:]\n",
        "x"
      ],
      "execution_count": 15,
      "outputs": [
        {
          "output_type": "execute_result",
          "data": {
            "text/plain": [
              "array([-0.1, -1. ])"
            ]
          },
          "metadata": {},
          "execution_count": 15
        }
      ]
    },
    {
      "cell_type": "code",
      "metadata": {
        "id": "jKYxdHDFftRU",
        "colab": {
          "base_uri": "https://localhost:8080/"
        },
        "outputId": "87a29442-88b9-4c6a-ad50-029ac4ded52f"
      },
      "source": [
        "np.dot(x,M1)"
      ],
      "execution_count": 16,
      "outputs": [
        {
          "output_type": "execute_result",
          "data": {
            "text/plain": [
              "array([-1.32,  1.34, -1.52,  1.27, -0.75,  1.34,  1.84, -0.75, -1.84,  1.89, -1.73,  1.19, -1.45,  1.73,  1.19])"
            ]
          },
          "metadata": {},
          "execution_count": 16
        }
      ]
    },
    {
      "cell_type": "markdown",
      "metadata": {
        "id": "jbn-uSK_ftRW"
      },
      "source": [
        "# Slide \"OBJECTIVE FUNCTION\"\n",
        "\n",
        "### Skip-Gram Model\n",
        "\n",
        "$$P(w_{context} | w_{center}) = P(w_y|w_x) := \\frac{\\exp(x\\cdot y')}{\\sum_{v=1}^{|V|}\\exp(x\\cdot y'_v)}\n",
        "$$\n",
        "\n",
        "$$\n",
        "U(W_0, W_1)  := \\frac{1}{T} \\sum_{t=1}^T \\sum_{-c\\le j \\le c, j\\ne 0} \\log P(y_{t+j}|x_t) \n",
        "$$\n",
        "\n",
        "\n",
        "Алгоритм Skip-Gram пытается максимизировать целевую функцию $U(W_0, W_1)$, которая зависит от векторного вложения наших слов $w_1, w_2, w_3, \\dots , w_T$ выбранных из текста.\n",
        "$$\\max_{W_0, W_1} U(W_0, W_1)  $$\n",
        "\n",
        "Given a sequence of training words $w_1, w_2, w_3, \\dots , w_T$ , the objective of the Skip-gram model is to maximize $U(W_0, W_1)$:\n",
        "$$\\max_{W_0, W_1} U(W_0, W_1)  $$\n",
        "\n",
        "---"
      ]
    },
    {
      "cell_type": "markdown",
      "metadata": {
        "id": "eLXkRlUMftRX"
      },
      "source": [
        "# Вектор, скалярное произведение, матричное умножение\n",
        "\n",
        "$\\vec{f}\\cdot\\vec{g} := |\\vec{f}|\\, |\\vec{g}|\\, \\cos\\theta$\n",
        "\n",
        "$\\vec{f}\\cdot\\vec{g} = (f_1,f_2)\\cdot(g_1,g_2) = f_1g_1 + f_2g_2$\n",
        "\n",
        "$\\displaystyle \\vec{x}\\,  \\vec{y} =$"
      ]
    },
    {
      "cell_type": "markdown",
      "metadata": {
        "id": "WCtk9_VDftRX"
      },
      "source": [
        "# Вектор, скалярное произведение, матричное умножение\n",
        "\n",
        "$\\vec{a}\\cdot\\vec{b} \\ := \\ |\\vec{a}|\\, |\\vec{b}|\\, \\cos\\theta$\n",
        "\n",
        "$\\vec{a}\\cdot\\vec{b} \\  =  \\\n",
        "(a_1,a_2)\\cdot(b_1,b_2) \\  =  \\\n",
        "a_1b_1 + a_2b_2$\n",
        "\n",
        "$\n",
        "\\begin{bmatrix}\n",
        "6 & 9\n",
        "\\end{bmatrix}\n",
        "\\begin{bmatrix}\n",
        "-1 \\\\\n",
        "1 \n",
        "\\end{bmatrix} \n",
        "\\ \\ = \\ \\\n",
        "(6,9)\\cdot (-1,1) \n",
        "\\ \\ = \\ \\\n",
        "6\\,(-1) + 9\\,(1) \n",
        "\\ \\ = \\ \\\n",
        "3 \n",
        "$\n",
        "\n",
        "\n",
        "$\\begin{bmatrix}\n",
        "6 & 9\n",
        "\\end{bmatrix}\n",
        "\\begin{bmatrix}\n",
        "-1 & 1 & -2 \\\\\n",
        "1 & 0 & 1\n",
        "\\end{bmatrix} \\ = \\\n",
        "\\begin{bmatrix}\n",
        "3 & 6 & -3\n",
        "\\end{bmatrix} \n",
        "$\n",
        "\n",
        "\n",
        "$\\displaystyle  f(2) \n",
        "\\ + \\ \n",
        "\\epsilon f'(2) \\ > \\ f(2) \\qquad\\qquad\\text{if } f'(2)>0 $\n",
        "\n",
        "$\\displaystyle f(\\vec{a}) \n",
        "\\ + \\ \n",
        "\\epsilon  \\Big( \\nabla f (\\vec{a})\\Big) \n",
        "\\ > \\ \n",
        "f(\\vec{a}) $\n",
        "\n",
        "$\\displaystyle \\nabla f(a_1, a_2) := \n",
        "\\Big( \\frac{\\partial f}{\\partial a_1}\n",
        "\\ , \\\n",
        "\\frac{\\partial f}{\\partial a_2} \\Big). \\qquad$\n",
        "\n",
        "\n",
        "\n",
        "\n",
        "Пример: для  $f(\\vec{a}) = f(a_1, a_2) = \\sin(a_1) + 5 a_2, \\quad$\n",
        "$\\displaystyle \\nabla f(a_1, a_2)= \\Big( \\cos( a_1) \\ , \\ 5 \\Big)$.\n",
        "\n",
        "Если $(a_1,a_2) = (\\pi/2, 1) $, то вектор $\\nabla f(a_1, a_2) = (0,5)$ указывает направление наибольшего возрастания функции $f$ из точки \n",
        "$(\\pi/2, 1, 6)$.\n"
      ]
    },
    {
      "cell_type": "code",
      "metadata": {
        "id": "bt-sPhZjftRX"
      },
      "source": [
        ""
      ],
      "execution_count": 16,
      "outputs": []
    },
    {
      "cell_type": "markdown",
      "metadata": {
        "id": "5N_2Y45KftRX"
      },
      "source": [
        "\n",
        "\n",
        "\n",
        "# Matrix Multiplication\n",
        "\n",
        "\n",
        "$\\displaystyle \\qquad x\\, W_0 =\n",
        "\\begin{pmatrix}\n",
        "-1 & 1 & 2\n",
        "\\end{pmatrix}\n",
        "\\begin{pmatrix}\n",
        "1 & 2 \\\\\n",
        "3 & 1 \\\\\n",
        "2 & 5\n",
        "\\end{pmatrix}\n",
        "=\n",
        "\\begin{pmatrix}\n",
        "6 & 9\n",
        "\\end{pmatrix}\n",
        "$\n",
        "\n",
        "$\\displaystyle y' = x\\, W_0 \\, W_1 =\n",
        "\\begin{pmatrix}\n",
        "6 & 9\n",
        "\\end{pmatrix}\n",
        "\\begin{pmatrix}\n",
        "-1 & 1 & -2 \\\\\n",
        "1 & 0 & 1\n",
        "\\end{pmatrix} =\n",
        "\\begin{pmatrix}\n",
        "3 & 6 & -3\n",
        "\\end{pmatrix} \n",
        "$\n",
        "\n",
        "# Dot Product \n",
        "\n",
        "$(a,b) \\cdot (n,k) = an + bk$\n",
        "\n",
        "$(3, 5) \\cdot (-2,1) = 3(-2) + 5(1) = -6+5 = -1$\n",
        "\n",
        "\n",
        "# Cosine Similarity\n",
        "How similar (close) are vectors $y=(0.9, \\ 2.1, \\ -1.1)$ and \n",
        "$y'=(3, \\ 6, \\ -3) = 3(1, \\ 2, \\ -1)$?\n",
        "\n",
        "Cosine Similarity $(y,y') = \\displaystyle\n",
        "\\cos\\alpha = \\frac{ y\\cdot y' }{ |y| |y'| } = 0.998\n",
        "$\n",
        "\n",
        "\n",
        "Cosine Similarity $((1,0,0), \\ (0,1,0)) \\ = \\cos(\\pi/2) = 0$\n",
        "\n",
        "\n",
        "# Utility Function\n",
        "\n",
        "$$\n",
        "p(y | x) = \\frac{\\exp( y'\\cdot x)}\n",
        "{  \\sum_{v=1}^{|V|} \\exp(y_v'\\cdot x) }\n",
        "$$\n",
        "\n",
        "Here $y_v$ and $y_v'$ are the input and output vector representations of word $w_v$ for all words in the vocabulary $V$.\n",
        "\n",
        "The utility function that we want to maximize is the average log probability\n",
        "$$\n",
        "\\frac{1}{T} \\sum_{t=1}^T \n",
        "\\sum_{ -c\\le j\\le c, j\\ne 0} \\log p(y_{t+j} | x_t)\n",
        "$$\n",
        "\n"
      ]
    }
  ]
}